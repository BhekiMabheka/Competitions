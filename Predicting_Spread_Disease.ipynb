{
  "nbformat": 4,
  "nbformat_minor": 0,
  "metadata": {
    "colab": {
      "name": "Predicting_Spread_Disease",
      "provenance": [],
      "private_outputs": true,
      "authorship_tag": "ABX9TyNuavV6FbqP16rbF3IsSQkm",
      "include_colab_link": true
    },
    "kernelspec": {
      "name": "python3",
      "display_name": "Python 3"
    },
    "accelerator": "GPU"
  },
  "cells": [
    {
      "cell_type": "markdown",
      "metadata": {
        "id": "view-in-github",
        "colab_type": "text"
      },
      "source": [
        "<a href=\"https://colab.research.google.com/github/BhekiMabheka/Data_Driven_Competions/blob/master/Predicting_Spread_Disease.ipynb\" target=\"_parent\"><img src=\"https://colab.research.google.com/assets/colab-badge.svg\" alt=\"Open In Colab\"/></a>"
      ]
    },
    {
      "cell_type": "markdown",
      "metadata": {
        "id": "qe3yHLx8fmdF",
        "colab_type": "text"
      },
      "source": [
        "## DengAI: Predicting Disease Spread\n",
        "\n",
        "**Overview:**\n",
        "\n",
        "**Dengue fever** is a mosquito-borne disease that occurs in tropical and sub-tropical parts of the world. In mild cases, symptoms are similar to the flu: fever, rash, and muscle and joint pain. In severe cases, dengue fever can cause severe bleeding, low blood pressure, and even death.\n",
        "\n",
        "Because it is carried by mosquitoes, the transmission dynamics of dengue are <a href=\"https://ehp.niehs.nih.gov/wp-content/uploads/121/11-12/ehp.1306556.pdf\">`related to climate variables`</a> such as temperature and precipitation. Although the relationship to climate is complex, a growing number of scientists argue that climate change is likely to produce distributional shifts that will have significant public health implications worldwide.\n",
        "\n",
        "In recent years dengue fever has been spreading. Historically, the disease has been most prevalent in Southeast Asia and the Pacific islands. These days many of the nearly half billion cases per year are occurring in Latin America:\n"
      ]
    },
    {
      "cell_type": "code",
      "metadata": {
        "id": "GCllR9uhfqki",
        "colab_type": "code",
        "colab": {}
      },
      "source": [
        "## Data Wrangling Packages\n",
        "import pandas as pd\n",
        "import numpy as np\n",
        "import seaborn as sns\n",
        "import matplotlib.pyplot as plt\n",
        "import numpy as np\n",
        "\n",
        "## Machine Learning and Sci-kit learn packages\n",
        "from sklearn.impute import SimpleImputer\n",
        "from sklearn.model_selection import train_test_split\n",
        "from sklearn.ensemble import GradientBoostingRegressor, RandomForestRegressor, ExtraTreesRegressor\n",
        "from sklearn.linear_model import LinearRegression\n",
        "from sklearn.metrics import mean_absolute_error"
      ],
      "execution_count": 0,
      "outputs": []
    },
    {
      "cell_type": "code",
      "metadata": {
        "id": "iVQhCfYbhPik",
        "colab_type": "code",
        "colab": {}
      },
      "source": [
        "train_feats = pd.read_csv(\"https://raw.githubusercontent.com/BhekiMabheka/Data/master/Training_Data_Feeats.csv\")\n",
        "print(train_feats.shape)"
      ],
      "execution_count": 0,
      "outputs": []
    },
    {
      "cell_type": "code",
      "metadata": {
        "id": "bREYXcvcSI24",
        "colab_type": "code",
        "colab": {}
      },
      "source": [
        "train_feats.head(2)"
      ],
      "execution_count": 0,
      "outputs": []
    },
    {
      "cell_type": "code",
      "metadata": {
        "id": "CKYPjmithXTo",
        "colab_type": "code",
        "colab": {}
      },
      "source": [
        "tranin_labels = pd.read_csv(\"https://raw.githubusercontent.com/BhekiMabheka/Data/master/Traning_Labels.csv\")\n",
        "print(tranin_labels.shape)\n",
        "tranin_labels.head(2)"
      ],
      "execution_count": 0,
      "outputs": []
    },
    {
      "cell_type": "code",
      "metadata": {
        "id": "EX2K2CY0hpr7",
        "colab_type": "code",
        "colab": {}
      },
      "source": [
        "full = pd.merge(left = train_feats, left_on = [\"city\", \"year\", \"weekofyear\"], right = tranin_labels, right_on = [\"city\", \"year\", \"weekofyear\"])\n",
        "print(full.shape)\n",
        "full.head(2)"
      ],
      "execution_count": 0,
      "outputs": []
    },
    {
      "cell_type": "code",
      "metadata": {
        "id": "DNgNO42AjlgL",
        "colab_type": "code",
        "colab": {}
      },
      "source": [
        "numeric_feats_df = full.select_dtypes(include = [np.number]) # Select only numeric features\n",
        "cat_feats_df = full.select_dtypes(include = [np.object])     # Select on categorical features\n",
        " \n",
        "imp = SimpleImputer(missing_values = np.nan, strategy = 'mean') # All the numeric featuters impute them with an average\n",
        "numeric_feats_df = pd.DataFrame(data = imp.fit_transform(numeric_feats_df), columns = numeric_feats_df.columns.tolist()) # Fit and transform the dataset"
      ],
      "execution_count": 0,
      "outputs": []
    },
    {
      "cell_type": "code",
      "metadata": {
        "id": "MGySe3uZlFwI",
        "colab_type": "code",
        "colab": {}
      },
      "source": [
        "full = pd.concat([cat_feats_df, numeric_feats_df], axis = 1)\n",
        "full.head()"
      ],
      "execution_count": 0,
      "outputs": []
    },
    {
      "cell_type": "code",
      "metadata": {
        "id": "L7sC4fVRl4A2",
        "colab_type": "code",
        "colab": {}
      },
      "source": [
        "X = full.drop(axis =1, columns = [\"city\", \"week_start_date\", \"year\", \"weekofyear\", \"total_cases\"]) # Predictors\n",
        "y  =  full.total_cases # Target Label"
      ],
      "execution_count": 0,
      "outputs": []
    },
    {
      "cell_type": "code",
      "metadata": {
        "id": "6ruDmWHZngeL",
        "colab_type": "code",
        "colab": {}
      },
      "source": [
        "X_train, X_test, y_train, y_test = train_test_split(X, y, random_state = 2, test_size = 0.2)"
      ],
      "execution_count": 0,
      "outputs": []
    },
    {
      "cell_type": "code",
      "metadata": {
        "id": "UEUKbMGhn9M2",
        "colab_type": "code",
        "colab": {}
      },
      "source": [
        "# Fitting the gradient boosting regressor model with the training\n",
        "grd_boost = GradientBoostingRegressor(random_state = 2).fit(X = X_train, y = y_train)\n",
        "\n",
        "# Train Predictions\n",
        "train_predictions = grd_boost.predict(X_train)\n",
        "\n",
        "# Test Predictions\n",
        "test_predictions = grd_boost.predict(X_test)\n"
      ],
      "execution_count": 0,
      "outputs": []
    },
    {
      "cell_type": "code",
      "metadata": {
        "id": "VjeosSM7oWwU",
        "colab_type": "code",
        "colab": {}
      },
      "source": [
        "# Check performace on the training data\n",
        "train_mean_absolute_error = mean_absolute_error(y_pred = train_predictions, y_true = y_train)\n",
        "\n",
        "# Check performace on the testing data\n",
        "test_mean_absolute_error = mean_absolute_error(y_pred = test_predictions, y_true = y_test)"
      ],
      "execution_count": 0,
      "outputs": []
    },
    {
      "cell_type": "code",
      "metadata": {
        "id": "joyvl0hGo-sS",
        "colab_type": "code",
        "colab": {}
      },
      "source": [
        "print(\"TRAIN MEAN ABSOLUTE ERROR: \", np.round(train_mean_absolute_error, 2))\n",
        "print(\"TEST MEAN ABSOLUTE ERROR : \", np.round(test_mean_absolute_error, 2))"
      ],
      "execution_count": 0,
      "outputs": []
    },
    {
      "cell_type": "markdown",
      "metadata": {
        "id": "auoIYmKfqxjv",
        "colab_type": "text"
      },
      "source": [
        "The Gradient Boot Regressor model is overfiting, I will try parameter tuning to handle this, if it doesn't work I will to remove the noisy data by removing features with `zero variance` and later on do the feature engineering"
      ]
    },
    {
      "cell_type": "markdown",
      "metadata": {
        "id": "10uin5LsrNhT",
        "colab_type": "text"
      },
      "source": [
        "### Parameter Tuning"
      ]
    },
    {
      "cell_type": "code",
      "metadata": {
        "id": "pNP4sBX9rMkT",
        "colab_type": "code",
        "colab": {}
      },
      "source": [
        ""
      ],
      "execution_count": 0,
      "outputs": []
    }
  ]
}